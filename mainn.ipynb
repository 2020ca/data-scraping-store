{
 "cells": [
  {
   "cell_type": "code",
   "execution_count": 5,
   "id": "7ed2e8b0",
   "metadata": {},
   "outputs": [],
   "source": [
    "import requests\n",
    "from bs4 import BeautifulSoup\n",
    "import pandas as pd\n",
    "import mysql.connector\n",
    "from mysql.connector import Error"
   ]
  },
  {
   "cell_type": "code",
   "execution_count": 6,
   "id": "c4ec4daa",
   "metadata": {},
   "outputs": [],
   "source": [
    "url = 'https://www.speedtest.net/global-index'\n",
    "\n",
    "page = requests.get(url)\n",
    "\n",
    "soup = BeautifulSoup(page.text, 'html')"
   ]
  },
  {
   "cell_type": "code",
   "execution_count": 17,
   "id": "b5098a37",
   "metadata": {},
   "outputs": [
    {
     "data": {
      "text/plain": [
       "[]"
      ]
     },
     "execution_count": 17,
     "metadata": {},
     "output_type": "execute_result"
    }
   ],
   "source": [
    "soup.find('table', class_ = 'data-result results')"
   ]
  },
  {
   "cell_type": "code",
   "execution_count": 19,
   "id": "424c3865",
   "metadata": {},
   "outputs": [
    {
     "data": {
      "text/plain": [
       "[<th class=\"rank\" colspan=\"2\" width=\"20%\">#</th>,\n",
       " <th class=\"labelType\" width=\"45%\">Country</th>,\n",
       " <th class=\"speed\" width=\"35%\"><svg class=\"svg-icon svg-icon-larger\"><use xlink:href=\"#icon-download\"></use></svg><span class=\"unit list-unit\">Mbps</span></th>,\n",
       " <th class=\"rank\" colspan=\"2\" width=\"20%\">#</th>,\n",
       " <th class=\"labelType\" width=\"45%\">Country</th>,\n",
       " <th class=\"speed\" width=\"35%\"><svg class=\"svg-icon svg-icon-larger\"><use xlink:href=\"#icon-download\"></use></svg><span class=\"unit list-unit\">Mbps</span></th>,\n",
       " <th class=\"rank\" colspan=\"2\" width=\"20%\">#</th>,\n",
       " <th class=\"labelType\" width=\"45%\">Country</th>,\n",
       " <th class=\"speed\" width=\"35%\"><svg class=\"svg-icon svg-icon-larger\"><use xlink:href=\"#icon-download\"></use></svg><span class=\"unit list-unit\">Mbps</span></th>,\n",
       " <th class=\"rank\" colspan=\"2\" width=\"20%\">#</th>,\n",
       " <th class=\"labelType\" width=\"45%\">City</th>,\n",
       " <th class=\"speed\" width=\"35%\"><svg class=\"svg-icon svg-icon-larger\"><use xlink:href=\"#icon-download\"></use></svg><span class=\"unit list-unit\">Mbps</span></th>,\n",
       " <th class=\"rank\" colspan=\"2\" width=\"20%\">#</th>,\n",
       " <th class=\"labelType\" width=\"45%\">Country</th>,\n",
       " <th class=\"speed\" width=\"35%\"><svg class=\"svg-icon svg-icon-larger\"><use xlink:href=\"#icon-download\"></use></svg><span class=\"unit list-unit\">Mbps</span></th>,\n",
       " <th class=\"rank\" colspan=\"2\" width=\"20%\">#</th>,\n",
       " <th class=\"labelType\" width=\"45%\">City</th>,\n",
       " <th class=\"speed\" width=\"35%\"><svg class=\"svg-icon svg-icon-larger\"><use xlink:href=\"#icon-download\"></use></svg><span class=\"unit list-unit\">Mbps</span></th>]"
      ]
     },
     "execution_count": 19,
     "metadata": {},
     "output_type": "execute_result"
    }
   ],
   "source": [
    "soup.find_all('th')"
   ]
  },
  {
   "cell_type": "code",
   "execution_count": 7,
   "id": "2d8fc7e3",
   "metadata": {},
   "outputs": [],
   "source": [
    "\n",
    "soup = BeautifulSoup(page.text, 'lxml')"
   ]
  },
  {
   "cell_type": "code",
   "execution_count": 8,
   "id": "9aec1e1d",
   "metadata": {},
   "outputs": [
    {
     "data": {
      "text/plain": [
       "[<th class=\"labelType\" width=\"45%\">Country</th>,\n",
       " <th class=\"labelType\" width=\"45%\">Country</th>,\n",
       " <th class=\"labelType\" width=\"45%\">Country</th>,\n",
       " <th class=\"labelType\" width=\"45%\">City</th>,\n",
       " <th class=\"labelType\" width=\"45%\">Country</th>,\n",
       " <th class=\"labelType\" width=\"45%\">City</th>]"
      ]
     },
     "execution_count": 8,
     "metadata": {},
     "output_type": "execute_result"
    }
   ],
   "source": [
    "soup.find_all('th',class_='labelType')"
   ]
  },
  {
   "cell_type": "code",
   "execution_count": 9,
   "id": "b208dc18",
   "metadata": {},
   "outputs": [
    {
     "name": "stdout",
     "output_type": "stream",
     "text": [
      "Country\n",
      "Country\n",
      "Country\n",
      "City\n",
      "Country\n",
      "City\n"
     ]
    }
   ],
   "source": [
    "for i in soup.find_all('th',class_='labelType'):\n",
    "     print(i.text.strip())"
   ]
  },
  {
   "cell_type": "code",
   "execution_count": 41,
   "id": "b93f43f2",
   "metadata": {},
   "outputs": [],
   "source": [
    "table=soup.find_all('table',class_='list-results')"
   ]
  },
  {
   "cell_type": "code",
   "execution_count": 42,
   "id": "451c229f",
   "metadata": {},
   "outputs": [],
   "source": [
    "data=soup.find_all('tr',class_='data-result results')"
   ]
  },
  {
   "cell_type": "code",
   "execution_count": 14,
   "id": "53a412dd",
   "metadata": {},
   "outputs": [
    {
     "data": {
      "text/plain": [
       "897"
      ]
     },
     "execution_count": 14,
     "metadata": {},
     "output_type": "execute_result"
    }
   ],
   "source": [
    "len(data)"
   ]
  },
  {
   "cell_type": "code",
   "execution_count": 16,
   "id": "0f618772",
   "metadata": {},
   "outputs": [],
   "source": [
    "data=soup.find_all('tr',class_='data-result results')\n"
   ]
  },
  {
   "cell_type": "code",
   "execution_count": 17,
   "id": "33b8cf64",
   "metadata": {},
   "outputs": [
    {
     "name": "stdout",
     "output_type": "stream",
     "text": [
      "    Rank                  Country    Mbps\n",
      "0      1                    Qatar  473.58\n",
      "1      2     United Arab Emirates  462.61\n",
      "2      3              South Korea  285.04\n",
      "3      4                   Kuwait  277.67\n",
      "4      5                  Denmark  232.84\n",
      "..   ...                      ...     ...\n",
      "372  157                    Gomel   13.62\n",
      "373  158  Santa Cruz de la Sierra   12.29\n",
      "374  159                   La Paz    9.67\n",
      "375  160                     Aden    8.79\n",
      "376  161                   Havana    4.47\n",
      "\n",
      "[377 rows x 3 columns]\n",
      "    Rank               Country    Mbps\n",
      "0      1             Singapore  385.29\n",
      "1      2               Iceland  368.21\n",
      "2      3                France  366.20\n",
      "3      4       Hong Kong (SAR)  358.30\n",
      "4      5  United Arab Emirates  342.88\n",
      "..   ...                   ...     ...\n",
      "515  198                 Herat    3.37\n",
      "516  199                 Kabul    3.37\n",
      "517  200              Damascus    2.88\n",
      "518  201                Havana    2.55\n",
      "519  202                Aleppo    1.87\n",
      "\n",
      "[520 rows x 3 columns]\n"
     ]
    }
   ],
   "source": [
    "mobile_countries = []\n",
    "fixed_countries = []\n",
    "mobile_rank = []\n",
    "fixed_rank = []\n",
    "mobile_Mbps = []\n",
    "fixed_Mbps = []\n",
    "\n",
    "for i in data:\n",
    "    country_td = i.find('td', class_='country')\n",
    "    if country_td:\n",
    "        country_a = country_td.find('a')\n",
    "        if country_a:\n",
    "            href = country_a.get('href')\n",
    "            country_name = country_a.text.strip()\n",
    "            rank_val = i.find('td',class_='rank actual-rank').text.strip()\n",
    "            Mbps_val = i.find('td',class_='speed').text.strip()\n",
    "            if '#mobile' in href:\n",
    "                mobile_countries.append(country_name)\n",
    "                mobile_rank.append(rank_val)\n",
    "                mobile_Mbps.append(Mbps_val)\n",
    "            elif '#fixed' in href:\n",
    "                fixed_countries.append(country_name)\n",
    "                fixed_rank.append(rank_val)\n",
    "                fixed_Mbps.append(Mbps_val)\n",
    "\n",
    "# create DataFrames\n",
    "df_mobile = pd.DataFrame({'Rank': mobile_rank,'Country': mobile_countries, 'Mbps': mobile_Mbps})\n",
    "df_fixed = pd.DataFrame({'Rank': fixed_rank,'Country': fixed_countries, 'Mbps': fixed_Mbps})\n",
    "\n",
    "print(df_mobile)\n",
    "print(df_fixed)"
   ]
  },
  {
   "cell_type": "code",
   "execution_count": 18,
   "id": "21a11cba",
   "metadata": {},
   "outputs": [],
   "source": [
    "df_mobile.to_csv('mobile_data.csv', index=False)\n",
    "df_fixed.to_csv('fixed_data.csv', index=False)\n",
    "\n"
   ]
  },
  {
   "cell_type": "code",
   "execution_count": 19,
   "id": "8196f7af",
   "metadata": {},
   "outputs": [
    {
     "data": {
      "text/html": [
       "<div>\n",
       "<style scoped>\n",
       "    .dataframe tbody tr th:only-of-type {\n",
       "        vertical-align: middle;\n",
       "    }\n",
       "\n",
       "    .dataframe tbody tr th {\n",
       "        vertical-align: top;\n",
       "    }\n",
       "\n",
       "    .dataframe thead th {\n",
       "        text-align: right;\n",
       "    }\n",
       "</style>\n",
       "<table border=\"1\" class=\"dataframe\">\n",
       "  <thead>\n",
       "    <tr style=\"text-align: right;\">\n",
       "      <th></th>\n",
       "      <th>Rank</th>\n",
       "      <th>Country</th>\n",
       "      <th>Mbps</th>\n",
       "    </tr>\n",
       "  </thead>\n",
       "  <tbody>\n",
       "    <tr>\n",
       "      <th>0</th>\n",
       "      <td>1</td>\n",
       "      <td>Qatar</td>\n",
       "      <td>473.58</td>\n",
       "    </tr>\n",
       "    <tr>\n",
       "      <th>1</th>\n",
       "      <td>2</td>\n",
       "      <td>United Arab Emirates</td>\n",
       "      <td>462.61</td>\n",
       "    </tr>\n",
       "    <tr>\n",
       "      <th>2</th>\n",
       "      <td>3</td>\n",
       "      <td>South Korea</td>\n",
       "      <td>285.04</td>\n",
       "    </tr>\n",
       "    <tr>\n",
       "      <th>3</th>\n",
       "      <td>4</td>\n",
       "      <td>Kuwait</td>\n",
       "      <td>277.67</td>\n",
       "    </tr>\n",
       "    <tr>\n",
       "      <th>4</th>\n",
       "      <td>5</td>\n",
       "      <td>Denmark</td>\n",
       "      <td>232.84</td>\n",
       "    </tr>\n",
       "    <tr>\n",
       "      <th>...</th>\n",
       "      <td>...</td>\n",
       "      <td>...</td>\n",
       "      <td>...</td>\n",
       "    </tr>\n",
       "    <tr>\n",
       "      <th>372</th>\n",
       "      <td>157</td>\n",
       "      <td>Gomel</td>\n",
       "      <td>13.62</td>\n",
       "    </tr>\n",
       "    <tr>\n",
       "      <th>373</th>\n",
       "      <td>158</td>\n",
       "      <td>Santa Cruz de la Sierra</td>\n",
       "      <td>12.29</td>\n",
       "    </tr>\n",
       "    <tr>\n",
       "      <th>374</th>\n",
       "      <td>159</td>\n",
       "      <td>La Paz</td>\n",
       "      <td>9.67</td>\n",
       "    </tr>\n",
       "    <tr>\n",
       "      <th>375</th>\n",
       "      <td>160</td>\n",
       "      <td>Aden</td>\n",
       "      <td>8.79</td>\n",
       "    </tr>\n",
       "    <tr>\n",
       "      <th>376</th>\n",
       "      <td>161</td>\n",
       "      <td>Havana</td>\n",
       "      <td>4.47</td>\n",
       "    </tr>\n",
       "  </tbody>\n",
       "</table>\n",
       "<p>377 rows × 3 columns</p>\n",
       "</div>"
      ],
      "text/plain": [
       "    Rank                  Country    Mbps\n",
       "0      1                    Qatar  473.58\n",
       "1      2     United Arab Emirates  462.61\n",
       "2      3              South Korea  285.04\n",
       "3      4                   Kuwait  277.67\n",
       "4      5                  Denmark  232.84\n",
       "..   ...                      ...     ...\n",
       "372  157                    Gomel   13.62\n",
       "373  158  Santa Cruz de la Sierra   12.29\n",
       "374  159                   La Paz    9.67\n",
       "375  160                     Aden    8.79\n",
       "376  161                   Havana    4.47\n",
       "\n",
       "[377 rows x 3 columns]"
      ]
     },
     "execution_count": 19,
     "metadata": {},
     "output_type": "execute_result"
    }
   ],
   "source": [
    "df_mobile"
   ]
  },
  {
   "cell_type": "code",
   "execution_count": 20,
   "id": "28817840",
   "metadata": {},
   "outputs": [
    {
     "data": {
      "text/html": [
       "<div>\n",
       "<style scoped>\n",
       "    .dataframe tbody tr th:only-of-type {\n",
       "        vertical-align: middle;\n",
       "    }\n",
       "\n",
       "    .dataframe tbody tr th {\n",
       "        vertical-align: top;\n",
       "    }\n",
       "\n",
       "    .dataframe thead th {\n",
       "        text-align: right;\n",
       "    }\n",
       "</style>\n",
       "<table border=\"1\" class=\"dataframe\">\n",
       "  <thead>\n",
       "    <tr style=\"text-align: right;\">\n",
       "      <th></th>\n",
       "      <th>Rank</th>\n",
       "      <th>Country</th>\n",
       "      <th>Mbps</th>\n",
       "    </tr>\n",
       "  </thead>\n",
       "  <tbody>\n",
       "    <tr>\n",
       "      <th>0</th>\n",
       "      <td>1</td>\n",
       "      <td>Singapore</td>\n",
       "      <td>385.29</td>\n",
       "    </tr>\n",
       "    <tr>\n",
       "      <th>1</th>\n",
       "      <td>2</td>\n",
       "      <td>Iceland</td>\n",
       "      <td>368.21</td>\n",
       "    </tr>\n",
       "    <tr>\n",
       "      <th>2</th>\n",
       "      <td>3</td>\n",
       "      <td>France</td>\n",
       "      <td>366.20</td>\n",
       "    </tr>\n",
       "    <tr>\n",
       "      <th>3</th>\n",
       "      <td>4</td>\n",
       "      <td>Hong Kong (SAR)</td>\n",
       "      <td>358.30</td>\n",
       "    </tr>\n",
       "    <tr>\n",
       "      <th>4</th>\n",
       "      <td>5</td>\n",
       "      <td>United Arab Emirates</td>\n",
       "      <td>342.88</td>\n",
       "    </tr>\n",
       "    <tr>\n",
       "      <th>...</th>\n",
       "      <td>...</td>\n",
       "      <td>...</td>\n",
       "      <td>...</td>\n",
       "    </tr>\n",
       "    <tr>\n",
       "      <th>515</th>\n",
       "      <td>198</td>\n",
       "      <td>Herat</td>\n",
       "      <td>3.37</td>\n",
       "    </tr>\n",
       "    <tr>\n",
       "      <th>516</th>\n",
       "      <td>199</td>\n",
       "      <td>Kabul</td>\n",
       "      <td>3.37</td>\n",
       "    </tr>\n",
       "    <tr>\n",
       "      <th>517</th>\n",
       "      <td>200</td>\n",
       "      <td>Damascus</td>\n",
       "      <td>2.88</td>\n",
       "    </tr>\n",
       "    <tr>\n",
       "      <th>518</th>\n",
       "      <td>201</td>\n",
       "      <td>Havana</td>\n",
       "      <td>2.55</td>\n",
       "    </tr>\n",
       "    <tr>\n",
       "      <th>519</th>\n",
       "      <td>202</td>\n",
       "      <td>Aleppo</td>\n",
       "      <td>1.87</td>\n",
       "    </tr>\n",
       "  </tbody>\n",
       "</table>\n",
       "<p>520 rows × 3 columns</p>\n",
       "</div>"
      ],
      "text/plain": [
       "    Rank               Country    Mbps\n",
       "0      1             Singapore  385.29\n",
       "1      2               Iceland  368.21\n",
       "2      3                France  366.20\n",
       "3      4       Hong Kong (SAR)  358.30\n",
       "4      5  United Arab Emirates  342.88\n",
       "..   ...                   ...     ...\n",
       "515  198                 Herat    3.37\n",
       "516  199                 Kabul    3.37\n",
       "517  200              Damascus    2.88\n",
       "518  201                Havana    2.55\n",
       "519  202                Aleppo    1.87\n",
       "\n",
       "[520 rows x 3 columns]"
      ]
     },
     "execution_count": 20,
     "metadata": {},
     "output_type": "execute_result"
    }
   ],
   "source": [
    "df_fixed"
   ]
  },
  {
   "cell_type": "code",
   "execution_count": 37,
   "id": "f91d79de",
   "metadata": {},
   "outputs": [
    {
     "name": "stdout",
     "output_type": "stream",
     "text": [
      "Connection established successfully!\n",
      "mobile_data table created successfully!\n",
      "fixed_data table created successfully!\n",
      "Data inserted into mobile_data table successfully!\n",
      "Data inserted into fixed_data table successfully!\n",
      "Changes committed successfully!\n",
      "Connection closed.\n"
     ]
    }
   ],
   "source": [
    "try:\n",
    "    db = mysql.connector.connect(\n",
    "        host=\"localhost\",  \n",
    "        user=\"root\",  \n",
    "        password=\"Priya@850\",  \n",
    "        database=\"tutorial\"  \n",
    "    )\n",
    "    print(\"Connection established successfully!\")\n",
    "\n",
    "    cursor = db.cursor()\n",
    "\n",
    "    # Create tables\n",
    "    create_mobile_table_query = \"\"\"\n",
    "    CREATE TABLE IF NOT EXISTS mobile_data (\n",
    "        id INT AUTO_INCREMENT PRIMARY KEY,\n",
    "        country VARCHAR(255),\n",
    "        `rank` VARCHAR(255),\n",
    "        mbps VARCHAR(255)\n",
    "    )\n",
    "    \"\"\"\n",
    "    create_fixed_table_query = \"\"\"\n",
    "    CREATE TABLE IF NOT EXISTS fixed_data (\n",
    "        id INT AUTO_INCREMENT PRIMARY KEY,\n",
    "        country VARCHAR(255),\n",
    "        `rank` VARCHAR(255),\n",
    "        mbps VARCHAR(255)\n",
    "    )\n",
    "    \"\"\"\n",
    "    \n",
    "    cursor.execute(create_mobile_table_query)\n",
    "    print(\"mobile_data table created successfully!\")\n",
    "    \n",
    "    cursor.execute(create_fixed_table_query)\n",
    "    print(\"fixed_data table created successfully!\")\n",
    "\n",
    "    # Insert data into mobile_data table\n",
    "    for index, row in df_mobile.iterrows():\n",
    "        cursor.execute(\"\"\"\n",
    "          INSERT INTO mobile_data (country, `rank`, mbps)\n",
    "          VALUES (%s, %s, %s)\n",
    "        \"\"\", (row['Country'], row['Rank'], row['Mbps']))\n",
    "    print(\"Data inserted into mobile_data table successfully!\")\n",
    "\n",
    "    # Insert data into fixed_data table\n",
    "    for index, row in df_fixed.iterrows():\n",
    "        cursor.execute(\"\"\"\n",
    "          INSERT INTO fixed_data (country, `rank`, mbps)\n",
    "          VALUES (%s, %s, %s)\n",
    "        \"\"\", (row['Country'], row['Rank'], row['Mbps']))\n",
    "    print(\"Data inserted into fixed_data table successfully!\")\n",
    "\n",
    "    \n",
    "    db.commit()\n",
    "    print(\"Changes committed successfully!\")\n",
    "\n",
    "except mysql.connector.Error as err:\n",
    "    print(f\"Error: {err}\")\n",
    "\n",
    "finally:\n",
    "    \n",
    "    if cursor:\n",
    "        cursor.close()\n",
    "    if db:\n",
    "        db.close()\n",
    "    print(\"Connection closed.\")\n",
    "\n",
    "  \n",
    "   \n",
    "\n",
    "  "
   ]
  },
  {
   "cell_type": "code",
   "execution_count": null,
   "id": "abd31ac5",
   "metadata": {},
   "outputs": [],
   "source": []
  }
 ],
 "metadata": {
  "kernelspec": {
   "display_name": "Python 3 (ipykernel)",
   "language": "python",
   "name": "python3"
  },
  "language_info": {
   "codemirror_mode": {
    "name": "ipython",
    "version": 3
   },
   "file_extension": ".py",
   "mimetype": "text/x-python",
   "name": "python",
   "nbconvert_exporter": "python",
   "pygments_lexer": "ipython3",
   "version": "3.9.13"
  }
 },
 "nbformat": 4,
 "nbformat_minor": 5
}
